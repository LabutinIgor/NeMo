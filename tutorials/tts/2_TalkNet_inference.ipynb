{
 "cells": [
  {
   "cell_type": "code",
   "execution_count": 1,
   "metadata": {},
   "outputs": [
    {
     "name": "stderr",
     "output_type": "stream",
     "text": [
      "[NeMo W 2020-10-05 05:37:07 experimental:27] Module <class 'nemo.collections.asr.data.audio_to_text.AudioToCharDataset'> is experimental, not ready for production and is not fully supported. Use at your own risk.\n",
      "[NeMo W 2020-10-05 05:37:07 experimental:27] Module <class 'nemo.collections.asr.data.audio_to_text.AudioToCharWithDursDataset'> is experimental, not ready for production and is not fully supported. Use at your own risk.\n",
      "[NeMo W 2020-10-05 05:37:07 experimental:27] Module <class 'nemo.collections.asr.data.audio_to_text.AudioToBPEDataset'> is experimental, not ready for production and is not fully supported. Use at your own risk.\n",
      "[NeMo W 2020-10-05 05:37:07 experimental:27] Module <class 'nemo.collections.asr.data.audio_to_text.AudioLabelDataset'> is experimental, not ready for production and is not fully supported. Use at your own risk.\n",
      "[NeMo W 2020-10-05 05:37:07 experimental:27] Module <class 'nemo.collections.asr.data.audio_to_text._TarredAudioToTextDataset'> is experimental, not ready for production and is not fully supported. Use at your own risk.\n",
      "[NeMo W 2020-10-05 05:37:07 experimental:27] Module <class 'nemo.collections.asr.data.audio_to_text.TarredAudioToCharDataset'> is experimental, not ready for production and is not fully supported. Use at your own risk.\n",
      "[NeMo W 2020-10-05 05:37:07 experimental:27] Module <class 'nemo.collections.asr.data.audio_to_text.TarredAudioToBPEDataset'> is experimental, not ready for production and is not fully supported. Use at your own risk.\n",
      "\u001b[34m\u001b[1mwandb\u001b[0m: \u001b[33mWARNING\u001b[0m W&B installed but not logged in.  Run `wandb login` or set the WANDB_API_KEY env variable.\n",
      "[NeMo W 2020-10-05 05:37:08 experimental:27] Module <class 'nemo.collections.asr.losses.ctc.CTCLoss'> is experimental, not ready for production and is not fully supported. Use at your own risk.\n",
      "[NeMo W 2020-10-05 05:37:08 experimental:27] Module <class 'nemo.collections.tts.losses.glow_tts_loss.GlowTTSLoss'> is experimental, not ready for production and is not fully supported. Use at your own risk.\n",
      "[NeMo W 2020-10-05 05:37:08 experimental:27] Module <class 'nemo.collections.tts.modules.glow_tts.TextEncoder'> is experimental, not ready for production and is not fully supported. Use at your own risk.\n",
      "[NeMo W 2020-10-05 05:37:08 experimental:27] Module <class 'nemo.collections.tts.modules.glow_tts.FlowSpecDecoder'> is experimental, not ready for production and is not fully supported. Use at your own risk.\n",
      "[NeMo W 2020-10-05 05:37:08 modelPT:101] Please call the ModelPT.setup_training_data() method and provide a valid configuration file to setup the train data loader.\n",
      "    Train config : \n",
      "    dataset:\n",
      "      cls: nemo.collections.asr.data.audio_to_text.AudioToCharWithDursDataset\n",
      "      params:\n",
      "        manifest_filepath: /home/iglabutin/work/data/sets/ljspeech/LJSpeech-1.1/ljspeech_train.json\n",
      "        max_duration: null\n",
      "        min_duration: 0.1\n",
      "        int_values: false\n",
      "        load_audio: false\n",
      "        normalize: false\n",
      "        sample_rate: 22050\n",
      "        trim: false\n",
      "        vocab_notation: phonemes\n",
      "        vocab_punct: true\n",
      "        vocab_spaces: true\n",
      "        vocab_stresses: false\n",
      "        durs_path: /home/iglabutin/work/data/sets/ljspeech/nemo/durs/phonemes/punct-T_stresses-F_spaces-T.pth\n",
      "        rep: false\n",
      "    dataloader_params:\n",
      "      drop_last: false\n",
      "      shuffle: true\n",
      "      batch_size: 64\n",
      "      num_workers: 4\n",
      "    \n",
      "[NeMo W 2020-10-05 05:37:08 modelPT:108] Please call the ModelPT.setup_validation_data() or ModelPT.setup_multiple_validation_data() method and provide a valid configuration file to setup the validation data loader(s). \n",
      "    Validation config : \n",
      "    dataset:\n",
      "      cls: nemo.collections.asr.data.audio_to_text.AudioToCharWithDursDataset\n",
      "      params:\n",
      "        manifest_filepath: /home/iglabutin/work/data/sets/ljspeech/LJSpeech-1.1/ljspeech_eval.json\n",
      "        max_duration: null\n",
      "        min_duration: 0.1\n",
      "        int_values: false\n",
      "        load_audio: false\n",
      "        normalize: false\n",
      "        sample_rate: 22050\n",
      "        trim: false\n",
      "        vocab_notation: phonemes\n",
      "        vocab_punct: true\n",
      "        vocab_spaces: true\n",
      "        vocab_stresses: false\n",
      "        durs_path: /home/iglabutin/work/data/sets/ljspeech/nemo/durs/phonemes/punct-T_stresses-F_spaces-T.pth\n",
      "        rep: false\n",
      "    dataloader_params:\n",
      "      drop_last: false\n",
      "      shuffle: false\n",
      "      batch_size: 64\n",
      "      num_workers: 8\n",
      "    \n",
      "[NeMo W 2020-10-05 05:37:08 nemo_logging:349] /home/iglabutin/anaconda3/lib/python3.8/site-packages/hydra/_internal/utils.py:638: UserWarning: \n",
      "    Config key 'model.cls' is deprecated since Hydra 1.0 and will be removed in Hydra 1.1.\n",
      "    Use '_target_' instead of 'cls'.\n",
      "    See https://hydra.cc/docs/next/upgrades/0.11_to_1.0/object_instantiation_changes\n",
      "      warnings.warn(message=msg, category=UserWarning)\n",
      "    \n",
      "[NeMo W 2020-10-05 05:37:08 nemo_logging:349] /home/iglabutin/anaconda3/lib/python3.8/site-packages/hydra/_internal/utils.py:584: UserWarning: \n",
      "    Field 'params' is deprecated since Hydra 1.0 and will be removed in Hydra 1.1.\n",
      "    Inline the content of params directly at the containing node.\n",
      "    See https://hydra.cc/docs/next/upgrades/0.11_to_1.0/object_instantiation_changes\n",
      "      warnings.warn(category=UserWarning, message=msg)\n",
      "    \n",
      "[NeMo W 2020-10-05 05:37:08 modelPT:101] Please call the ModelPT.setup_training_data() method and provide a valid configuration file to setup the train data loader.\n",
      "    Train config : \n",
      "    dataset:\n",
      "      cls: nemo.collections.asr.data.audio_to_text.AudioToCharWithDursDataset\n",
      "      params:\n",
      "        manifest_filepath: /home/iglabutin/work/data/sets/ljspeech/LJSpeech-1.1/ljspeech_train.json\n",
      "        max_duration: null\n",
      "        min_duration: 0.1\n",
      "        int_values: false\n",
      "        load_audio: true\n",
      "        normalize: false\n",
      "        sample_rate: 22050\n",
      "        trim: false\n",
      "        vocab_notation: phonemes\n",
      "        vocab_punct: true\n",
      "        vocab_spaces: true\n",
      "        vocab_stresses: false\n",
      "        durs_path: /home/iglabutin/work/data/sets/ljspeech/nemo/durs/phonemes/punct-T_stresses-F_spaces-T.pth\n",
      "        rep: true\n",
      "    dataloader_params:\n",
      "      drop_last: false\n",
      "      shuffle: true\n",
      "      batch_size: 64\n",
      "      num_workers: 4\n",
      "    \n",
      "[NeMo W 2020-10-05 05:37:08 modelPT:108] Please call the ModelPT.setup_validation_data() or ModelPT.setup_multiple_validation_data() method and provide a valid configuration file to setup the validation data loader(s). \n",
      "    Validation config : \n",
      "    dataset:\n",
      "      cls: nemo.collections.asr.data.audio_to_text.AudioToCharWithDursDataset\n",
      "      params:\n",
      "        manifest_filepath: /home/iglabutin/work/data/sets/ljspeech/LJSpeech-1.1/ljspeech_eval.json\n",
      "        max_duration: null\n",
      "        min_duration: 0.1\n",
      "        int_values: false\n",
      "        load_audio: true\n",
      "        normalize: false\n",
      "        sample_rate: 22050\n",
      "        trim: false\n",
      "        vocab_notation: phonemes\n",
      "        vocab_punct: true\n",
      "        vocab_spaces: true\n",
      "        vocab_stresses: false\n",
      "        durs_path: /home/iglabutin/work/data/sets/ljspeech/nemo/durs/phonemes/punct-T_stresses-F_spaces-T.pth\n",
      "        rep: true\n",
      "    dataloader_params:\n",
      "      drop_last: false\n",
      "      shuffle: false\n",
      "      batch_size: 64\n",
      "      num_workers: 8\n",
      "    \n",
      "[NeMo W 2020-10-05 05:37:08 nemo_logging:349] /home/iglabutin/anaconda3/lib/python3.8/site-packages/hydra/_internal/utils.py:638: UserWarning: \n",
      "    Config key 'preprocessor.cls' is deprecated since Hydra 1.0 and will be removed in Hydra 1.1.\n",
      "    Use '_target_' instead of 'cls'.\n",
      "    See https://hydra.cc/docs/next/upgrades/0.11_to_1.0/object_instantiation_changes\n",
      "      warnings.warn(message=msg, category=UserWarning)\n",
      "    \n"
     ]
    },
    {
     "name": "stdout",
     "output_type": "stream",
     "text": [
      "[NeMo I 2020-10-05 05:37:08 features:241] PADDING: 1\n",
      "[NeMo I 2020-10-05 05:37:08 features:254] STFT using conv\n"
     ]
    }
   ],
   "source": [
    "from nemo.collections.tts.models import TalkNetDursModel\n",
    "from nemo.collections.tts.models import TalkNetSpectModel\n",
    "\n",
    "pretrained_model_durs = \"./dn2.ckpt\"\n",
    "pretrained_model_spec = \"./sn2.ckpt\"\n",
    "\n",
    "dn = TalkNetDursModel.load_from_checkpoint(checkpoint_path=pretrained_model_durs)\n",
    "\n",
    "sn = TalkNetSpectModel.load_from_checkpoint(checkpoint_path=pretrained_model_spec)\n"
   ]
  },
  {
   "cell_type": "code",
   "execution_count": 2,
   "metadata": {},
   "outputs": [
    {
     "name": "stdout",
     "output_type": "stream",
     "text": [
      "Input what you want the model to say: hello\n"
     ]
    }
   ],
   "source": [
    "text_to_generate = input(\"Input what you want the model to say: \")"
   ]
  },
  {
   "cell_type": "code",
   "execution_count": 3,
   "metadata": {},
   "outputs": [
    {
     "name": "stdout",
     "output_type": "stream",
     "text": [
      "tensor([[ 7, 27, 10, 36]])\n"
     ]
    }
   ],
   "source": [
    "tokens = sn.parse(text_to_generate)\n",
    "tokens = tokens.reshape(1, -1)\n",
    "print(tokens)\n"
   ]
  },
  {
   "cell_type": "code",
   "execution_count": 4,
   "metadata": {
    "scrolled": true
   },
   "outputs": [
    {
     "name": "stdout",
     "output_type": "stream",
     "text": [
      "tensor([[57,  7, 57, 27, 57, 10, 57, 36, 57]])\n"
     ]
    }
   ],
   "source": [
    "\n",
    "from nemo.utils import talknet_utils\n",
    "\n",
    "import torch\n",
    "\n",
    "tokens_len = torch.tensor(len(tokens))\n",
    "tokens_with_blanks, tokens_len = talknet_utils.interleave_blanks(tokens, tokens_len, dn.vocab)\n",
    "print(tokens_with_blanks)"
   ]
  },
  {
   "cell_type": "code",
   "execution_count": null,
   "metadata": {},
   "outputs": [],
   "source": []
  },
  {
   "cell_type": "code",
   "execution_count": 5,
   "metadata": {},
   "outputs": [
    {
     "name": "stdout",
     "output_type": "stream",
     "text": [
      "tensor([[0.8438, 1.5537, 1.5383, 1.5431, 1.5131, 1.6001, 1.5296, 1.6072, 1.5686]],\n",
      "       grad_fn=<SqueezeBackward1>)\n"
     ]
    }
   ],
   "source": [
    "durs_log = dn.forward(text=tokens_with_blanks, text_len=torch.tensor([1]))\n",
    "\n",
    "print(durs_log)"
   ]
  },
  {
   "cell_type": "code",
   "execution_count": 6,
   "metadata": {},
   "outputs": [
    {
     "name": "stdout",
     "output_type": "stream",
     "text": [
      "tensor([[3, 5, 5, 5, 5, 5, 5, 5, 5]])\n",
      "tensor(43)\n"
     ]
    }
   ],
   "source": [
    "durs = (durs_log.exp() + 1).long()\n",
    "print(durs)\n",
    "print(durs.sum())"
   ]
  },
  {
   "cell_type": "code",
   "execution_count": 7,
   "metadata": {},
   "outputs": [
    {
     "name": "stdout",
     "output_type": "stream",
     "text": [
      "tensor([[57, 57, 57,  7,  7,  7,  7,  7, 57, 57, 57, 57, 57, 27, 27, 27, 27, 27,\n",
      "         57, 57, 57, 57, 57, 10, 10, 10, 10, 10, 57, 57, 57, 57, 57, 36, 36, 36,\n",
      "         36, 36, 57, 57, 57, 57, 57]]) tensor([43])\n"
     ]
    }
   ],
   "source": [
    "tokens_expanded, tokens_len = talknet_utils.repeat_interleave(tokens_with_blanks, durs)\n",
    "print(tokens_expanded, tokens_len)"
   ]
  },
  {
   "cell_type": "code",
   "execution_count": null,
   "metadata": {},
   "outputs": [],
   "source": []
  },
  {
   "cell_type": "code",
   "execution_count": 27,
   "metadata": {},
   "outputs": [
    {
     "name": "stdout",
     "output_type": "stream",
     "text": [
      "tensor([[[-8.5898, -7.3622, -8.5095,  ..., -8.3210, -8.7814, -8.6586],\n",
      "         [-8.0608, -6.7832, -7.7931,  ..., -7.2253, -7.5702, -7.5420],\n",
      "         [-7.5969, -6.4124, -7.0537,  ..., -6.3487, -6.4905, -6.6390],\n",
      "         ...,\n",
      "         [-5.8576, -4.1380, -4.2582,  ..., -8.1198, -8.0656, -8.3248],\n",
      "         [-5.7362, -4.0953, -4.2358,  ..., -8.1738, -8.0545, -8.2310],\n",
      "         [-5.8610, -4.2649, -4.4649,  ..., -8.2278, -8.0411, -8.0719]]],\n",
      "       device='cuda:0', grad_fn=<CopyBackwards>)\n"
     ]
    }
   ],
   "source": [
    "spectrogram = sn(text=tokens_expanded, text_len=tokens_len).cuda()\n",
    "print(spectrogram)"
   ]
  },
  {
   "cell_type": "code",
   "execution_count": null,
   "metadata": {},
   "outputs": [],
   "source": []
  },
  {
   "cell_type": "code",
   "execution_count": 28,
   "metadata": {},
   "outputs": [],
   "source": [
    "import IPython.display as ipd\n",
    "import numpy as np\n",
    "from PIL import Image\n",
    "from matplotlib.pyplot import imshow\n",
    "from matplotlib import pyplot as plt"
   ]
  },
  {
   "cell_type": "code",
   "execution_count": null,
   "metadata": {},
   "outputs": [],
   "source": []
  },
  {
   "cell_type": "code",
   "execution_count": 29,
   "metadata": {},
   "outputs": [
    {
     "name": "stdout",
     "output_type": "stream",
     "text": [
      "Choose one of the following audio generators:\n",
      "['griffin_lim', 'waveglow', 'squeezewave']\n",
      "waveglow\n"
     ]
    }
   ],
   "source": [
    "supported_audio_gen = [\"griffin_lim\", \"waveglow\", \"squeezewave\"]\n",
    "\n",
    "print(\"Choose one of the following audio generators:\")\n",
    "print([model for model in supported_audio_gen])\n",
    "audio_generator = input()\n",
    "\n",
    "assert audio_generator in supported_audio_gen"
   ]
  },
  {
   "cell_type": "code",
   "execution_count": 30,
   "metadata": {},
   "outputs": [
    {
     "name": "stdout",
     "output_type": "stream",
     "text": [
      "[NeMo I 2020-10-05 05:48:28 cloud:55] Found existing object /home/iglabutin/.cache/torch/NeMo/NeMo_1.0.0b1/WaveGlow-22050Hz/63a329dc3e8b44ec2e07cd4209eeab2a/WaveGlow-22050Hz.nemo.\n",
      "[NeMo I 2020-10-05 05:48:28 cloud:61] Re-using file from: /home/iglabutin/.cache/torch/NeMo/NeMo_1.0.0b1/WaveGlow-22050Hz/63a329dc3e8b44ec2e07cd4209eeab2a/WaveGlow-22050Hz.nemo\n",
      "[NeMo I 2020-10-05 05:48:28 common:395] Instantiating model from pre-trained checkpoint\n",
      "[NeMo I 2020-10-05 05:48:33 features:241] PADDING: 16\n",
      "[NeMo I 2020-10-05 05:48:33 features:254] STFT using conv\n",
      "[NeMo I 2020-10-05 05:48:35 modelPT:237] Model WaveGlowModel was successfully restored from /home/iglabutin/.cache/torch/NeMo/NeMo_1.0.0b1/WaveGlow-22050Hz/63a329dc3e8b44ec2e07cd4209eeab2a/WaveGlow-22050Hz.nemo.\n"
     ]
    }
   ],
   "source": [
    "from omegaconf import OmegaConf, open_dict\n",
    "import torch\n",
    "from ruamel.yaml import YAML\n",
    "from nemo.collections.asr.parts import parsers\n",
    "\n",
    "SAMPLE_RATE = 22050\n",
    "NFFT = 1024\n",
    "NMEL = 80\n",
    "FMAX = None\n",
    "\n",
    "def load_vocoder_model():\n",
    "    if audio_generator == \"waveglow\":\n",
    "        from nemo.collections.tts.models import WaveGlowModel as VocoderModel\n",
    "        pretrained_model = \"WaveGlow-22050Hz\"\n",
    "    elif audio_generator == \"squeezewave\":\n",
    "        from nemo.collections.tts.models import SqueezeWaveModel as VocoderModel\n",
    "        pretrained_model = \"SqueezeWave-22050Hz\"\n",
    "    elif audio_generator == \"griffin_lim\":\n",
    "        from nemo.collections.tts.helpers.helpers import griffin_lim\n",
    "        import numpy as np\n",
    "        import librosa\n",
    "        class GL:\n",
    "            def __init__(self):\n",
    "                pass\n",
    "            def convert_spectrogram_to_audio(self, spec):\n",
    "                log_mel_spec = spec.squeeze().to('cpu').numpy().T\n",
    "                mel_spec = np.exp(log_mel_spec)\n",
    "                mel_pseudo_inverse = librosa.filters.mel(SAMPLE_RATE, NFFT, NMEL, fmax=FMAX)\n",
    "                return griffin_lim(np.dot(mel_spec, mel_pseudo_inverse).T ** 1.2)\n",
    "            def load_state_dict(self, *args, **kwargs):\n",
    "                pass\n",
    "            def cuda(self, *args, **kwargs):\n",
    "                return self\n",
    "        return GL()\n",
    "    else:\n",
    "        raise NotImplementedError\n",
    "\n",
    "    model = VocoderModel.from_pretrained(pretrained_model)\n",
    "    with open_dict(model._cfg):\n",
    "        global SAMPLE_RATE\n",
    "        global NFFT\n",
    "        global NMEL\n",
    "        global FMAX\n",
    "        if model._cfg.sample_rate is not None and SAMPLE_RATE is not None:\n",
    "            assert model._cfg.sample_rate == SAMPLE_RATE\n",
    "        if model._cfg.n_fft is not None and NFFT is not None:\n",
    "            assert _cfg.n_fft == NFFT\n",
    "        if model._cfg.n_mels is not None and NMEL is not None:\n",
    "            assert model._cfg.n_mels == NMEL\n",
    "        if model._cfg.fmax is not None and FMAX is not None:\n",
    "            assert model._cfg.fmax == FMAX\n",
    "    return model\n",
    "\n",
    "vocoder = load_vocoder_model().cuda()"
   ]
  },
  {
   "cell_type": "code",
   "execution_count": 31,
   "metadata": {},
   "outputs": [],
   "source": [
    "with torch.no_grad():\n",
    "    audio = vocoder.convert_spectrogram_to_audio(spec=spectrogram)\n",
    "    if isinstance(spectrogram, torch.Tensor):\n",
    "        spectrogram = spectrogram.to('cpu').numpy()"
   ]
  },
  {
   "cell_type": "code",
   "execution_count": 32,
   "metadata": {},
   "outputs": [],
   "source": [
    "if isinstance(spectrogram, torch.Tensor):\n",
    "    spectrogram = spectrogram.to('cpu').detach().numpy()\n",
    "if len(spectrogram.shape) == 3:\n",
    "    spectrogram = spectrogram[0]"
   ]
  },
  {
   "cell_type": "code",
   "execution_count": 33,
   "metadata": {},
   "outputs": [
    {
     "data": {
      "image/png": "[encoded data removed]",
      "text/plain": [
       "<Figure size 432x288 with 1 Axes>"
      ]
     },
     "metadata": {
      "needs_background": "light"
     },
     "output_type": "display_data"
    }
   ],
   "source": [
    "%matplotlib inline\n",
    "imshow(spectrogram, origin=\"lower\")\n",
    "plt.show()"
   ]
  },
  {
   "cell_type": "code",
   "execution_count": 34,
   "metadata": {},
   "outputs": [
    {
     "data": {
      "text/html": [
       "\n",
       "                <audio  controls=\"controls\" >\n",
       "                    <source src=\"data:audio/wav;base64,UklGRiRWAABXQVZFZm10IBAAAAABAAEAIlYAAESsAAACABAAZGF0YQBWAACG/6b/k//B/wsA//9ZAM4ArwB0ABwAh/+2/2oAff/B/14B3wDI/xoAAQAHABX/zv8NAKAA8AC4ADoB1QCe/5D/xf/e/zP/e/8oAHIAJACGAJv/av5x/q7/vf+MADIA3v/U/xP/Yf9M/3z/TABcAOcASgCa/2z/AgBVADAAMP+3AAkBnf+N/2r/pP/aAIT/Nv8bAOb/TACSAO3/YAAN/7//cgFnAFr/RAC/AEgBzwCU/04ApP8w/ykAq/9nAL0AagFkAXgAaP8MAD8AiADE/+H/0ABHAH//3v/+//T/Of4g/5oAof/V/9b/fv+pAEcAu/92AFQANADW/yT/kABxAB4AdQB3ANX/awAAAO7/GQAFAbsAegD//5QAkQAV/67+1/+mAQwBRQAqADgAYAAiADABJQG1AJf/NACyAM8AiQBJAPX/FACfAAwABQCdAHr/AwBbANz/sP96/9//SQAQ/0T/Rf+O/7n/pf8mAKYA9v93AOAAEADJ/+T/tACsACQAGQHz/17/9v4TAN//QQBQ/yT/Gv88/5H/m/+x/6H/OQC0AH8AfP9r/4v/FQCuAG8APQBXALz/9P/6/7z/0/8G/5n/s/8tADAASQAMAKAAcf87AN3/jf9JAM//FwD0AMwA8v8Z/wf/eP4K/w4AXv+T//b/nv9j/xz/aQHGAJUAs/6V/3YBQwESAer+tQBeACwBrwDb/+oA7v1J/+f+kQDM/4X/9P+RABoBiwCc/pMBIf29/0kEof+TAZ3/9QHaAir/ZAHZAfIBNwMP/Mr/VgSA/3r8oAL8/4j+PAKK/jgBBP82/nMCq/+3/un9pgJq/6T1fQMSASL/vf+3+U/+VQPK90sI/v2t/iQAb/8e+NwCcAXy+5ADif1tDboAMQ7t+Pn+aufr+98hhe1N/sILnMz8LLoEuOrC+bIKHwBP4isVv/hqAK72niE21t5BRP/b8gUekN8NAvf6uQJi8HjyRg6Y9nD16RQ5+k768v2j/1QIvgrb6a4WUO+++/nphvrAEob4CgkmBXcBWgd/C//muyhJ4f39hgw57nsWqQPz7VsZSfxM7SINweIHHWvrdvmODKMXl9SbCkkR0uskCwfrtgxsBdD5rP9tEjP0YgKxAvL+XOrgC1UFmf5JCIcBzwPmBc0HiOy5CGgEf/fyAUX+EgHABX/3CwGE/oD9zP9e+9sArQG+A8z9XgWjAhn/ZP9eBVT/PvSoCuQED/kzAHQGgwHb/T0Hh/JaBdX9gP3X9jkFugVX+LIM7/MpDBgGhfpwB+z9CfmX/lEAof/P/LsC4gIbAgEPSfojBAsCYgED/jX/eQHl8zcANwGmALf+3P6pAWL/BgGNA0cC+QBH/ZcEuAGW9yz+SgRI/7f+RgENAWMBjvnpBoABY/5j/R0D9gNV/2b9lwKx/m78cwiq+5X/7wHhBKD58P/c/kP+6vvLAUsDi/nSCPUAkP7F+CgHCQGA/WD/TQFkBS39QAAU/h7/7weU/Jr64gnc/DMArv+D/ysDA/vm/usCn/9Q+TIEpf3qAz/7Z/l8Bwz75PzpAfoF3QNJ+aEBMgY5/nMAkAA2ASUAbABu/e4Fmf3w+WUEyvoRBdb8Q/oNDV3+ufoDCLD/IP9X/XoDMgDr/JsBwvypAa/9/PulBsP+lfueA30ABABjAGz/v/vyAdUCPv5UAToCRQHg/vAB1/7z/03+xQCTBer6MwC+ApL7Pv+r/gAAMfu4/g0E3gEe/lX9EQPiAjz6lv1SAGwDt/6i/nYFFf+QAzb+VwBVB+X9QQUq/rQDTwHG/9X9zv6s/3P6UQfz/ccA6ADi/dT+SP6m/jwEf/zL/csGg/+E/Wj+lwEhAhQAsQBXAGQAHAqX/vf+sv4UBBb/7vue/ob9KgFd+LkGu/vg/JgFUf/7/UD9YwRi/W//bP80A0r9NwTr/AABAQYwAVf+3/xrA87+twKG/5j+HQGKAW767/7vBGT7yQN5AtUA9wKI/vIB+fX2/kcEQP6+ASwD7AGhALz7ZgPB+14BvAMW/HAAWPkABgz7o/6DAKL9IARaAsL81wCS/qgC3f9a/5oAR/3pBFEAsv03AR4Bdf13/4T/Pf+M/fv+PAIg/sz/AACj/iED2P2G/6UAlQFrBWIA4f9FBbv/rv5mAoP7rgOR/W3/Uf6MAMkEZ/6y/xIB8/2K/eP8h/0WApoBUQNg/ZgAgAHA/E8A/v6Y+58AtQO1/hD+KwEkBTj/FP12/IUBeQDpAdwFoQGRBc79yv9WA+/9OQKj/h8BhP4b/lX8q/61+2T7SQEbBrgB2/s+BAIE/AXxASgCHADVAZYCJf+B/TAB0gGbAGr9SwC0AWYATgCTACsCa/19Amz/mf6K/6ICz/0UApIAAP5b+2n/CAOW/YMB3gCg/HL7DgAyAcX+tf/c/8b/CP66A2T+Of11AXUB8wC0/vgBcPxhAEgDugMyAdP+HABp/K/+G/3z/TL/vf/+AkD/2vtY/2n/eQUaBEECFwJTBCkCdv76AEACCwSH/6MDJv/v/ev8rv9Q/j797QA1/Y/9WviR/jz7hP1z/b4DFgagAyUDMAE6AC8ClfwI+07+U/sG+gD5DQB3/PD8Z/8wA2IBHgF/A4UFmgC1BGACXAO3Ad/7uf6z/cQBgf3V/1D/6APk/rIAfPzq/7H+SgCNATcApwJy/1cDRACqAH0BLAJA/zD+xACUApT9QP+5/1v/CgGJ/rYANQBQAC0DNwOwAEIDsgFmAJkDRgBl/879gf27/vb6ZQAU/4j/yP/C/9D/Pv3+/Rr8hP4L/h7/oP79/7AAogBJAkoAXQFR/zcDQwItAr8CfALvBU8CuP80AHL8RP2l/L/7q/sD/OD9EQF6AvMCwQNYBSkKdgiDBOYB0P/d/Fv7GP1u/Ir73fzk/lr/Zv/s/2kCngi9CckGewmkBp4E1vuZ+mv33/O582P2tfnf+LH8af9LAXcBpAXHBusIcgmGBzkFYwIY/y3/Nf0O/ZIA9P/I/sD7nf3R/2//4f4DAPb+xQDcApsCo/9F/77+4/5T/ND7rP6pAQME5Ae/BTQDJAHa/QP91Pao9Z74TPss/A3/o/+dATwDVAfoCc4G8QU0BykEAQH3/LP38fhP94T5Ov6a/20DgQRzBXEGkQOHAzYA9gA9AIb+k/03/6r+XP/8AbcBZALE/fn7mfvj+rD+EPyc/lX+Ev4W/wgCPwnbCgIPFRDeDh0HdQKH+x34r/Qi8M3ubuzk7m/yEvZB+xIF3AW0BjsIEgeSCHcHogaFCrMGQQWBA1kBOP6d+8T9Ev7M+qn6yfv4+QL9GAHWCOAO2AxdC58LqAU+/en0cPBH7tPurPGg+Nf9GwQ/CpMOgRG5Db0Pmw9hCrcGrAQY/pb6C/t5/A/8Af7w/qj8VPuz+rD2SvTp8uXyWvbC+ED7Mvva/0sChwZlBnQEjwZxBccCZ/2Y+Wj4cPnO+0AA/AMpA/YDSgduCBQF3ASWBGIEvgShA8EDEQNSA4v8U/nx8jTwhO549JP9agSsCIgONxTOEYoUIBR7D1sNywvACBoH/AKzARUAR/79+/P7YPa78gH0xvHd7oLu8+4T7/LytvQz95D0FfdL+17+EwXZCCkGrwWkBWMEFAH//U3+H/mP+mcCWQYSBwoMqwufBOn94/m482/sLOyv7D7tOPO79n/6GwHIAYcGXQa1DZMZyCBNJg0taCqZJnQhVRw2FrMLygKF+q7yh+3I7WrmouHd4qfjOuX/6Z/x3vjI+yoIJA7+EYMUDBB9CUr/zfZz8Gvw8eza8PH0Wv29A1kFTgipBlsCOwJ8BToHlAn9Bv8El/g77U/tAOrw6TfvVvak91/7ZwACCN8J9wuCEdMQTQkMAc4A3QGcCD8SwReLGKQZIh2UHC8YOhNEDnUD7fdX7i7j3Nne1yvZotxv4n3r/fZuAEEIWRCXE/wVHReNG+sb7xc1ENgKygbd+5r3jPTP7tXwqfTK+qkBPwSLBP/6J/VO9CLyy/Ik8x/07vPZ9DfzhvHC7+j2I/xkAtEICw0qDqoMxwXQBFUH0wdHD9sOwgyaBwQB1vzg+4z99AMM/Wj5H/mS9sz5V/tg/EL2WvSZ8gn0LPkCECkfoS5yO9M/4jljLP8fqw2s/kbw1uYZ3eDg+ePz5d3meORF3w/gquTY5yfnquol+PL+twTMCvsNFw+bEEsNwwkSANb98vwG+vH2LP06/WYA3/8y+yD1wfPD+HD2UfSO98f6SAGDB40JvQbiBMQBMv7kAJUGPAuFBggFwgaHDAQZ9yqoONc3wCDuCTnxU+QG4hHhit3z3NDjresj7oblouTx6Jr9aA8uF3AYqBu6FMEMAP5m9eTuxOuZ69nm+eU/8eYBxA8LHN4cHxsnEpMPawtzDIMN9gyWArL6DPvHAxoJHgXyA/MBDfbT7oDvoOyd72XzfPMX5oTaJN0H5F3nNfjKB1wQbBIAFUkT1RBNDnAJewIX/p75LO/G5a/drNR7x03APsIE0GTskRjhRZVhymf3WUJHzDAjHVQRbgwgBS/8wO9d5Fne9+H06+zwmfPg+cf+qAG4AkoAxv8LALEBIAPKA+cD9QI1AB7+zPtb+f75Zfwr/an6j/ZB9nj2W/WC8m7tmO9L9pL8pQA5BFcHhgdOBjEEu/9P+yD48fb18+nwDO2B8Cz3sP32/wIErQttEssYOB2kH0ofqiDVG10TPg1UClEIYQYbCKYJ6Q5/E/wXBhc5FrcUGBCJCZf/dvYa8aPsf+cx40TgYuDS4frjauj/7Sbzn/gT+Xf5PvvN/1AA0P5n/9gCPQboBYwCg/q69xz5ePyQ+nPzOu4/7bnrIfCF9/X+9ACuAk7/+Plr+Jr71gEUCdwTrxoyIsIocCxoK+koeiWjID8YnBCYD6EPKAsUBBQCBQK0AB4ALwA+/BD3MvMH8B/sMekd6pHr3Ov/7ZHxMPWX+wT+iPp49bzy7fKu8v3zFPZn+rr+9v8B/qj+/vzL+TH3QPgO92P1g/QN9KzzUPNl9hz78/6+/jb/SALuBqoOgxrSIWMi2SOvJiomZyR7JVcrgy2dLEwsByUyGxEO4ALD+AbtK+HS1xjUXNSj1zLeLeeV7ILvuPNg94j8k/8jAHP+a/xF/kUAXAFRBLAFLAI0/nb7OPa48VTtnekX5ZHmeeyB7hXwF/Rf+cD64fjn9nb0LvGp9fwBhAdcCJIIhA2dFmgitC2rNrI6Tjs6OFc1XTRvLUUg3g3P/sn2Y/Oo8XfuHOem5HLnS+ou7lT2gf3NAXH+GPpf9zT0OfNU8eTvse9E8vT2t/uw+pv5BPjD+kP6qvRc7N/oH+We4+3ivOPt58frP+3360XtbfXFAqUL4xTHGXEeqBxCF/YR+AxhCJsEWP8E/bwG4RCQEWYNlRq3MxlD2ENsQww/YTK4HxQQn/5Z8BTm5t9S2VPUw8811i7pBfUn+dL8vgQmBJEDjgbfCcgHHwr+Cn8EgPv/9pP15fJl8dzvpOlB4CjoCP/cCD0BPvnc9/rxNuTy22rTL9Qz2UPdc9qQ2eTVY9oT5WT7LCWHSQle7VVqPmYsFSqALXYvgy3JMG4reR0aCV3yC+ai6ATuh+EKzGTDf9VM6xL9cP7ZAgEKfws7C8MY7yreOrI1bCKIEej+WfHh970C/va94jjIwcw239kPb0ACL+7yWOyKD/IkhyFyB23gPrT+rVy43LeSszvBJLxkvpXIIuYR+ijry+cW4JwIsjsqbP9//2ljR/AyXkTGYfdoykkxKYoEOuzt3MPYM8ykyWLMHchvvSHAud4z7iL42gRqFAgVmQ02BmsP1QkWCIIWrCX5JGMZKvtm33TSivVuJekvuh5X7QTDcb6v5G4Fih52E+HtVcshy/LoTAphEnEagf9T5JPeCeZ19DDzov52C+EdIiUrMVccEQtWCkcQ0hi9JmM+jT04MRAlOhHW/uv2O+pz3grppv5HBnj/X+jxyY207MN+2ZrprfJSAxMI3AMP/Lj72gRI/FXxwPBoBEEQ9wxtA88E3Q+iIFwYvAI68rrnpeMK4K7a2t6U7ejqrt/H46f1U/Hq7G//ZQsvCf8LWBKjD5gFnAmLGXsotDCyMREgygd88SXxHQi/HQgmoiUgJEge4BIVDDITDBlcGksUbwlO/tDzneOn19/Vndj53jDfReAQ4TXkmumz9Jr9/P5v9sr5AQZ5Ck4EUvqj9IbuNPCn8YD2Kfjj/yn/GwGvBmoDKPiA77z4QQS5CBwEzQBy+Ln66P7CBOn5HvOk9G8CcAAj/5YFLQYICeoJmA7iBnAE0w5cHkUhGx84HYMfniMkJNsnETFnNO8qoBsgFuEMKP5u7aPh9Nph2dfYANaH23Hh798o1xXaTOHT4YDgj+Sv6XTyVvl8/Pz0f/MY/TUEEPnF8S3zD/qiB/wQjA789sDqhOz3+LP7LPlz88Ps+OG746Pt7fU/9HL4Mfzh+y0JpQrdAVn8EBPvLx1ONFXfRQAm8R2xK2I9dTzzL+ocMiN8Nq83rh49AxYBdPgK6rrix+Ye6OrkmNfjzjLZIuNw08XHgd9c/ZfycNnW2c/slesG4gPrUgUlFaUUGA9pEWoOQQfHC7oOrQf19EXvoOyn8dL1VPnl8G3l7OKM6g7nsNvZ19Dk9fBI+48MAgzN+i/whwgzHr4osymgKFopgDK1QIY7OzTbLI0pPCpxLbUymC8RJ2UXiQTnAjoF9fEv2/nV99pA3C3Y59ZH3MLknOvO5vbd7uFY7Ov4+f65/pkCHwPG9OPnROSp8OHy/OlZ5wnyrfx1AE4CHPl67fvpQfO59Vj0bPqA9GXgh9XK3k7qKe9Z8OfquuP967f5hwKVERcgGiGGJB0xdDpOQC9FGUbsSFxSCVnTTJk5TDEfKi8cmRSQEFMGEfVq6eLsYPWF8hvmAN1P32fgDt/f4F/ixOlR+RADSvpv7SPzt/33AbcD/wbO/Rzuyuew8QQDVgwkEBUHiPgf6Ovcut2x513kA9h93kLy7Pro7LvhXttYxlm6SM+P6N7rDecY8PMGnRioIRErGS3zMTk5T0FFQXU+hzIQI3waIRnaGPINDAU5BRYNIg+ECy4FkgDbAp8LChMVFAAUxRRFE8IMsv/R8OnpOu1K75jrGOuQ8AP7gPpj8L3inuOt7y37Hf9F+k/2s/N495/64vrTAfYEUf3c8hLwYPIT83TpqNSju4y8Ltx5/hsD3+743m/op/Q58Tnlc9rM6BgMfS5VOEQdHPQT5LTvaQxAJBs0sDySS2BTk1baS9U7wijNCgwCxhNEPCJFtyyPCKT6Euoh4ATi8epC5M3jw/n1EeYGWOs+073Tx9MoxzLP4d4L63r22gKMBswBUOvX5Qz2LhTRHs0TpAuHB9v9mP0j/mAExO9J2uXaRu6B4prLC8UW09zS/NAC7Af/8OmS0Wvs0+qT5wDwoyTfSRlZ4UC2Ocw0vjWPLh0sITK7LW4xe0CmTQg/LS3iFR8KLPy5/oAMeiQ6Gx8Ugvz37DzgvN6b0OLHCdjC9h8edBdtAZPqtvZK5JTHDMAu2iDq0t723DDn+uMj3fLeZeGA2dTaU++q+iQCewqvD+cBvu3E5fjsiPL95P7TbMZ/zG3fG+Ef1nTUlug3AQgRbhWHFawUCxvwKgBFa1svXklN/0eEUQ1OlkKxOkI4xjWoPJFHZEXKKo4KkfVh8DHtTuqN5RTjOubc6kjsp+uY58HcXdXW3t3w6fib+ZL5Wvpa+K/zsPGL8ATvZvMk+Yr71vhF90r0WO8Z7W7x1Pgo+eX8fQNOAqX2l/Lk877rC94+3PHkRub34uThxNyj2UjaL95q4brlnOU04cHqtQCWEWQZjCL7LRA0Gi9/Ik4aPiFEMTk6HkBVRJxCcTokM3ougCh4HGEOnAjyB8wEpft39pL58/x19yjr4eM14vniL+NI40LoHfTc+7D3e/MJ+sIBDf/0/IUGFg4aC2IHHwsjB2n4QOy068vqK+eI4/DmTugp4wTgeeIn4wzeSNxQ4cDjRd8n3g7hxd6X3hflfPDT/GwAKwabDj8ZWBsiGyAiUSuLMEkztzXBMYEqxSmgLp4tuidCIoIh3CDgHZoVURFXEC4OAgg1BqkI5wdLAEP7xvlr+Lv0dO8p6lDnu+pn8zb5IPmG99D5/PrR9VPw7O8k8uDzjPgYATMFkgRCBGEDKQDh+jD7fPg/82Pvk+ue5ijkwuVV5e7jcOKq43DjnOOv5FjlhuZy6XPwJfci9233hfvIAAwCEAViCjgNMwsgDawVuhxaHt8dYR49HeUYOhd/GOQWoQ8rDIIR2hb9F3sYHxgyEs8MXgqhBjUCpgBS/9j78Plc+9r+ZADkAWEBowAW/4j/+AWFD4cThxDSC+wI+wIY+q/06fJv7hDqmebw4cfcetvK3KDZotoI4OLkyuSM47Li7uFH4QPh1uKF5p3nmuf36wf0HfcX9v744f6VBF0JZxIcHIUjbiNgJMgkOSnOLMAvpC5tKA0kryGBH+UdrB20HvYeNxw2F3ISexJ+E5oSLA2FCB0GoQcUCkUMAg7CDa8KjwYqAw79kvZZ8s7wZO4N7nbvK+9r6gvmo+Tu5gzpN+fZ4+Lgb9+24VXh191u2W7WINWm12be3uN54ureb92f2E/Sl9De0wvXsdqS4wDuv/KM+J4BVgj7CDwKhg/GF6oiPy9IOzA/vT32OgM6UzhHNjQ3fTh8NYI0ejfJO1w6UTRzLucq8CTfHVQXuRFfDJYGHwNC/975W/YO+bv7Cvn08Wbs5ucD4nzdW92234vh4+SE56fnK+oF8LbvRulf5W/m0+aD5DbjieLL3VTY/NeQ3N/eFN4E4NbjYeRZ4lbileVM6krxofn3/4MB/QCx/7L9JP/7AYP/1/tx/Z4FsQyAD5ISMxf7F7oWCxjgHfcgRyGCImwksSVpKEwrUCq3JWcgyBypGzMcLR4JInEmsCUyH0Qb0xycH/AefBsDF4kRCQ8qE2MWDRO1CoQCJfxj9uDxXu9O7Hnnz+TE44DhedvX1bLS+88Ry6/H7Mg8zvDSbtWC2TTfreNO5qDnbenR6fPp6+zd8AfyFvKG8332Nvfo9b/1/fdu+lb8T/7cAc8ECgdDC4MPiw9ZD1wSoxUKFUYTzBQmF1sZYxzjHCkYNBMmEpwTLRQ4FFgV0BaCGZEdxiG9JJsm0SdUKr0ryikhJZ0gZx00GYQTRw4FC18JPwfBA77/ufnk8JvoquKI4Avf6N3P3hLfi9vM1j/UrNMz0jvQ+NCL0/DWF9yn4mXnHOnK6tDtm++B8NrzrPee+PL42foX/b7+FQA8ATAA8v3m+yH79vob+038N/7Z/2UBlwHkAMICSAflCh8M/w5/FHYX9RY9F8YY3xhyGYkb5hxFG50Zlxk1GfAY5xpNHb0ewB8oIMoeHB1QG4gXpxGFDVQLagnyB1cI8wmTCcgFOf/i+KH0b/O68lLxQPGz8VDwOuwF6FnnYegQ6cfo/OVI4tTgNOPM5izq1uxu7mfusu3O7YfwHfTh9DL0fvS+8hDuVOoF6zju4PBL84v2/vgr+mH63fsB/2UBAgJPAx8EZgXSB/sM5hEAFN8TCxQcFQkWshYkGAsZDRicF/8XLxZ4EsYQtRK4FtAZwRrDGnsZfRenEycQJw5sDPEK1AokClAHnwNNAdn+xvqc9qHz0vLj84706/R09o33rvb382Xw7Ozu6Enm/eXm58fpdOuF7i3y8PLS8lD05/Nl8F7vq/BC8Arsd+dV5fHmD+lr6sPrx+0O8CL1dP35As8EWwfyCsoLOwrTCagJQAjzB4AKFQ2KDaoNzhAkFksZ0hijF04WeRR0EbgO2AwhDBcNoQ/9EC8PJQvpBpUDswDZ/1wBzAMeBQ0F/wQVBWUCG/1A+VD5bPs0/joBnQJHAsgC/QRJBCEBV/43/SL85Puq/IP7//YB8jnvn+4I7yLwSPFW8fPwVfMK91P5tfjN9f7x4u5f7nfw8PLf9ID3DvrM+wv+MQCXANr+Mf85A2IHgwkmC5QOyBEJEXEOEQ3vDC4N7A7QEtEVfBQDEHkMVQq/CK4HUQcmBhkEewK1AsQCGQEF/hb7l/ul/Cb9Gf7KAIADzgTcBoEJBwrUCHEHsAf3COYJuQmxCWAI1ATA/5z84vt4+7/3IPOt7w7v4u4k7n/ute8C8rPzMvS09HP1avXB9K308Pfd+2f79fho+Db4Avfh9qH4D/hQ9sr2Wfid+J34H/lM+AH4cPic+in84f10AWwF8QZhCH0KVwuICAMGrQcDCk4KgQqiDAIQuxBWEAQPFAuTB/MGigUyAyMElgalBtMF8AU0BMoAMQE0A74DEAVpCVMNVA5nDhUOuwtACscKtAoJCB0DDv4p+yH5Gfb18unynvPL8e3vhPAE8uXx0/A08PDvzfDV8e7zCvds+GP3ofT28oDz7faP/JgAwAA3/bv8Hf31+6n5WvqM/Fn93v0Q/3D+m/xD/Uz/ZgAIAVIC9QKLAnoE5ghsDKwMzArkCCYJ/wqJC+ULqQ3EDvUMigowCH8FogN4BS0H8QdGCFEIpwi1BvUG/wagBIkCHQNCBYAGVAeSB+YEZQTMBVYH/QOZ/5H+ZP38+1L6i/i99v30yPRd9a/0FPNa8Ury4fPa9Ar2rfY/9031pvRb9q33rvhc+p77n/yy/vX9VPpv9l/0XvK28FXwP/Jg9Dr2C/ii9973Hfsy/uL/TAMMBvsHowhGDFQQPBCoDCINKg+ZDvwNWA5TDzkPxwv9BzMHtQh5B5kFjAcsB3AEygNgBKkDKgVSBiIH0werBgEGzgaJCRQJIgawAfX/fwGxA1kDagF8/Tn6PvtO/Bj8xfo8+MzyBe7X7FDsb+rE6fLqTu9P8h/0H/O68u31PPg0+Fr3r/h1+Cf7nfyA+mb19fEP8Fbv+u938QjyHPJk8xn3GPuK/ML8VACIAkgE+Al7Dn0Oew0EEakVnhjkGIsYBBf+E48UgRjzGZUZpxYaFt0XwBevGJgYDxoFHLgb7xp+GfoSqgpJB7QIDAg/B2gHHgm3CZIIYgMe/A322fGO7mLuSu4C8FburOuE6jXmQeMh4Dbes96k4HXhcuPP5EHmTOZa5YvjNeRR5unnK+nn6qnq9Ouq7bbv/fTI82707PKe74zxIvVv+gL9Mf7p/2kBywM4B1YLyg//Ee0RDQ8UDFQJPgZqBQ0EZAQNBkoJFgyXD3cS7hRyGCwdYiB+IzQmpiesK0ktwi9pLMgqqyfBJ8MoviYvJTghbB+YGgcY3BPMEDYMuwh0AzL/avjt8svvjeu26m7nNuhi53vlCuQo4oDgP9uU1jPTG9Ke0W3UQtcK2APXsNeO2IfZg9po2hbdN97H34XhuuOB49jkf+dr7Lnul/FZ9lP9LwTNB1oKzA3NDiYNMQ75DiIMCgg+CjsIuwiRBuwDLgXNBTsKag3dEckWABhEG9kfUCEuJLspLyy7Mc8zSTP1NyQzOS8ALbEsdyz8JQAljCQAJbYiYh+kGuIYOA9tCFMDnv8i+bf3+vpQ+q/3tvH08QbsPu/450PoL+Jd3zriytwN2ljXHdal02PT9NQx03XSzdKqzz7O/88O0l7Q7tYZ2DLcr+B659vvkPA49mD4gvjq9935P/w//Qv+BQNdCEAGHQr5B0kIaAccA5ECPwT0BJkESATgBQEGiAJZA+IGqApnFMEaEyG4JdMpsy4RL2QxTTLmMhUwFDHJLx4uGy5GKvwmnSRXIrgfrBcBGMwSSBBaD4YMrwy9COYGkwEK/lz8Wfh08gbvkOpf6DHk/+JG4zDgCN1S3YDacdi00iXPMM7czyfPF9KV19fWwtmi2uDa0eG64Mvj4+uM7KXvMPDI8r7wN/UR9L3ziPeK/GwApgCcA3UFKQkGCI4ChgTZARgBtQF1AeUCTgWSA04CZAOaAEUEGAWrBzkMfhC2E0YaOB/nJlIoBC/EMbotLjBCLlUuLi9ELhgsJi7uKWwoJiXLIRwiHBh8FkYRPQ6qDGAHIghEBxcGbwD2/hv2svAl6zjoHufC3hHjYeGd4FXbgtyv23jY89nP2dPYIN1q3V3TL92R2MTViNma2efeH96q4/3o5us+6zPy/PKy+H73r/UeAvv60f3B/or/MwPZAM7/iAWUARoA8wJIA98D0AQABmIFzgOOA6UFSgGABNgBMgS1CKgGdRHvDW0WFxupG08lBCOoKBcnRS5dLO8s0S2nMWsxjDJUMuAysjCgLk4umShQJ9UkYyDXHIQUZBNABUMDeAGc6//0wOZY51LbKNm1267UHdWH1QzU/da50qPbBdLZzfLawtFDzo7PFt1Gz63ds91/3i/mWuWE6zTnL+047yLuu/F+8HTx1fYr9CfznPku+17xqv67+tP5FgMKAZIG5wN7CNT/4gt7BMz+SwveAtQGqABfBosGjP7WCFMLngfyD0QSVxQVGj0cmhy4ILkkVSrRLfUvcDRmNfg1RzZXMik1yyxoMQMsjSleLUklzyWTHmobpRPLETcKhAiv+5YAdvMf88ztlOuR4YfkounWzbLnjNMk2/7Xbdm/2ZXYzdwy18Tjd8865hfbKNVi64DSq+Bd6H3ZvN7h3QjeJOH9483hOOgb6Qjn3vjk6mTtRgJU9ST6x/83AEEEb/+CDkgPVwTNGUwQ6wntFaIW3P9MFk0LKwTEFpH7tw4JBZsKeBIiDxsTLhXpHU0YoxhSJ5gb9RrrJPsfmRqsHYEeJBQSIkoUPxttHyoWuRoWG98b/BEGH0sMfRkoCaEM4w/R8bMGwO1M9ZLyjOmI6pzoa+wI3snvc9j15vHtSspo8LHgoeNB2q/lL9hy5rfS+ek55cPALAde0SvbXPnu2PvvI+go5UsLDtMjCSj7eu5yBzQANfaPF+D/1xBvCw0TaxlV9PQ319hdIbECifKrF38KqwmHCUkQEvFuIvbwsAEJICLxwA0KH+7/ywP9DhURwwIEDygZ4Q3fF1sd0xVADXAlvhfdE/kjmhyiFsMhOgscKgQOw/9NHvsAAANb8eMNLO/T8Nf7XfUW713woPT75RENcc1LBCLbQ+sJ9ZXJbAQ9xXcGZdDs6pnnaOA19GzUMv0W2ID9POKOA8/r991XG0/g3/zNAv309AECC0/vXQv0BGn4pxSc9tsOjgsD/6AGTB1h+6P/Xgq6AAoMtOhzA4EPGu7DB6/9PABLB///bP5hAxcP//UJEM8GRQTZD2EDRwrGCkINVRGvCo8eTgqVFFIgqQDhIIgLABCVFIoLHwvJEFgGMgRAEFr8LRNh+qsIDgNvAHoNfP4t/ZL/B9sWGjnZ0uxxEu3KWB5p3SIIg/O2/IL5uOYuAQ76Vt8Z/QrV7fqk3LXvBNrA7Gr2YNP7E+HPZRS/zHwNF+wn6hQMCPkiAunzwijQ/bsRMB/0Ay4Wug6vCKcBkRY2/CYCQQsBBP33WwYr8g8Kn+fg538OYe8P+qPoERrT+aP8sAOICo0Jhf7uCz4b4fxrFrwL1xZnCCcODyHl+6YkpQsyE20EdCRBAOYIdxddBQITlgOIBmr8nQrC9GAIQO+/C9f2zQhOCDLz8CFF6ygEqvxkDDLVxx8W6dz7Zgz/2hMSS8yS8D3pjO4nxu/6i+E35djtZdncCtLdsPD2CBHaNQxW8jDwSBAD89r7kgEmC+/zYwvy93oI+gmq9h8W7/ApDr/6kPj2B1H+EfuQBaX6zQRDAif1lgV1+C4Gq/oTBAMMYQWq/Z8PAQA4Brv5/QFmBH7y0QOz+eX2/wQ9/jj1yQkF9w8GbAPG/mIPlwfdB6cL8Q6lEH4PexZjFjscKBPXIXsRxRYkDQQVRAPIDCgKa/fMBc74Xfyh6bIExNwAAHHqrenM8nj0jOIp9s/qB+eEBYPWoAgu9Nrjiga+60PzVAHh5RIOCfAo/4f/XAGqAbcEEQXPAeAMev0eD24EbgUxDkAJpgjUEVAKVwy/EUkL9hkIB+kCdxgV/ikENgI99EoCEPPg8YQA8+GD91jxdeK+8FPlQegI6yPrw+ov9Y3v9/ph9In4awFq95L/AgjB+iEFJggcAwELzwN7COEOAQU+CFkMkwYDDqsHog9dCQ0MxgcwAq8ITP3F/l33Z/4K9Gv3jvsB9GkBfgDl+lkJKQf/BcENig18CwcP9BXkCkYQWBLuDWcNghRsDekOsg+1CXgOOAhICGAG7P+xCBP7CwMz+db+P/b69AwAhvGR+QD1Ivq18wIALe/+/wH1PPPP+bTw5O9Z8sjqMeyJ5wPpUe275GTrJe1Q7qX2v/Lj9zP/e+zvAm/wmfVj+wnqSvxA+oTxo/9H9xv3t/nZ+2Pz8gQ99QcEbwOE+vcQJ/TGCi0ClPwq/i/6HPJp/prz5/ZwA2367wC3C9UEDxFnGPMLgyTcFfYmoynDJ4woyCvdK/gqMyZbJTAqOCJpLIElziQuJiEf0hUhG7wOvgbhBzj7Pvln9vzr7vCq5cntR+Ep4ZPh0taF49LRed4d1LXZ4tUU1fzQ1due0Kzdmdxx1/Lz89H2A/jc7gBH+vDwdRHI85cRTQl1BjUQiQWsCLwI3QC+BOcBiP6V/IAEUvZ8A/b6jACv/Iv6vQaI8jwJHvVa+igB2ugKA7nqJfXp8TXq1/1o6Hr3cfvT8+kBoAF3BEoQWAsGEFwWyRdQHhUfLyKrKoEpSTACMXY26TyqNLw8GDepNvQ1VCpbK6ohHyBdEt0U8Q1RApoFNv+D+2P39uz96/jln+CD1nzaY8sh0+3Ks8gfyALGbM89t+ve8La22urO4c5j4cHTquuU3CDtPu208r7wr/3G9/8CIPsYAoMB9wJJ/jkLbf0iBIkOEf7gEbgHvBCsCh0R5glREYcHrgaNCQ4BlQgn8wIJFPJY+8b8nPMo/+T5xP2j/+QI3ftJEBcDdA6wB4cNjRVcDBcYvRgYHkcjGiUNKrkzkiyBNYY02TKzOPA0Mi5yQDYpOC/XLkUjLCNXGV8UAg3BCmX4+P5O9vjtpvBx6P3l1OYD2qTa1NvDzrbT8ctcy0DK58pOxo/GLM1Rxc3L08lhzqzQ3NFe21fZ2t5b5pbhAu0V7cvqY/dO7dj3FvU1/qX/EvrBCW4EzAwGELkO2Q9kHBcTUBHNHMYTcAtrFMYJlQhnCNACvf0JCDP+zv/rBjf6Xwc+/sUAVQZg/acEyAq0AFMPFwgJGd0QvhR2DzggShdoEf0k0RvfJrwd8iudIzcwgCb4JhctVSMdHksltxs6FvoYRBPeEhYKkQ/bBXcD5gJeAon5rvkA8ifumOqW5vPhrdzg2BLXddWi0HLOqsRd0hzHU8iZz6PAcNcsyTjU0tU00bPe89OM4wjX19uL4Z3jDOPv59rtPPZl+Jr6yAXrAd4IAA0VCRwQzBfXDcEZJxgyH7MYFhpRIdwWdhjVFi4Z7BIlEVoTIxHyCkYJewkyB8/+iP5SAAz+1vpT/GYDRQPzAikFgA0MDLELeww8FtgVdhoZIYsimiv7Jr0qZC9+J28kViaWIg8d7BvMF+IYWRZgDawQNgmECwsFff6f/kH9P/a99Qr3Q+9n8knn2O/+6P7dBOeQ3YfZ/NgU0tjV5NFAz/bU6dcg0UPZHtJc1yLbVtVR2sPmPeYz5of8tfgv+fT2gANTAdwFnP+eAk4KMhUdEAIK7CBCH/4WrhLYIYgQOAuhEgYI/ggjBtj9WQQYBAsDmvqH/RH9Wvxh+bvy7fax9+f7W/az+mD69v6MAgoC1wZuEF4QCxLgFtAajB6OGoQcZR8bHMYdoBnZFUwXJA3DDF0JhgOt/qD+av6y+Gb68gJH+534Cvuj+tr3GPgo+2b75wJyARwGDweMCp0PoRDeFqsWgRoOHF0cDBoHBzP6vfL05APZotJ/zGTHYMrkyETH4stt0TbQws3W1AHb6t1A4WbqK/ncBFUMRxIkGZ8bYRyDGFwaVhucF8wQRBBxEosNagbJBRkHLAlFCbEHdAFe/FQBdP9K+xP12/if+sX5sfm5+6kAvQBq/Qb8dPvX+W75q/hi+Ef4APt3/Hj5Avw7/mkBgAUHBpkJQA0WFc0XqBrvH2QiICWrJmEmXibGJFAmdCOHI0kh0R5CHx8d5xnbEvEP8wsQB7D/Xvml9tP0++6n6mLoluaC4nTafNhD2OvUaNIJ02bTzNXB1wjXmNrS20zbQt7z4WbmL+cK7r7xSvMA+Z/+iQDVAXoFCQdRBygI4woxCiMLUA11DpcN8Q/3EVMQ4w+0Dv4NiAvPCEIIEgmbCeAL9guYCvwIOglGCO8F5wMNAcX/4/6U/RX5zvYg+In0DvTC8qzz6vRl99v4rfkZ/fb/IgNiAokEqghEDLYOhhIHFkQbQR88Iv0l6SYhKIEnMCnMKDMkeiLIIbAfwBv6FswVFRDuCNoDsP3x+brzDO4I6enlGuIj3s3b5ti/1M/VYtkL1v/T6dOL1lHXrdaL2BbaENvB3VXg5OPV5OjlSuqK77fxxPBM9T/6hvz6ACYEAgn9CdoMiBFjEvEUIhbEFs4UqRYDF+MT2hL1EW8Rpg83D3cMQQhsBhYGcQGw/5P9hvyG+Fj1DfY+9KPv7ezJ7snwT+/D7nbwVvU8+Zv8AADzA+IJ1goAEbsSRRcSHJceaCKRJMInHSooK6gsQS1DLpgskCztKSYnWifyI5YhMRw/GVQVQBIWDbEHuAIGAaz86/UF8brs9udK5PbetdmV1kPV4NT2z1DQCdC4zRLPxNEA0qDTJNd02sXdWuDO40DnL+2k8ETxkvQC+kP+HP8W/zMBxQLlAQYDRQJNA9YCywJyAo8CMgPVAbcBcwGiAncCMgV2BfgFlwV9BnkHUgcHBxMIywcoBhAFbQUxBbIDXQPOAVAC3gG7AL39Vvvq+p/64vor95v4gvwGAOD+Bf/iBKkJAg3/DhAVFB2kIvklAynmL5s0bTQqM5s1yTkVOq428TPWMyAxIy2XJ9EfqxhGEqQMyAh1Aof6pvIM8c7sBeQa3V/c2Nh60oPOlcqAysjK0Mg5xgjK98xSzL7MUtFc07rZld3X4eTl5+zm7wH0BPufAe8DWARkCnMNExDUDnMPYA7PDysNmAnJB+4GAwTkAS8BPv1a+vz5E/gd9XH0vPQa9/r15vVe9xb7Z/v4+FX8tP95/8n82f9CAYgAT/zc+OH66vv69/HyOfOV8Xrts+u47gbwy/AH8Dnys/f//T4AqwdUEfUXHyD5LGk41jyAQGJHzk8AVL9UKVTnVnpZwFQbT5xKH0IeN7wtzyd/HhYTtAf8AGn8FvMA5zHfA9y+1MPODsrdyTfJMcnrxlPIOc0dztfLoNBN2DDbn9v13qHkqeio6t7pre0H80L2K/UX+ef+oAJUBYkFhggYCxYNWgoECQ0KvAnaCGQF7wLV/yv8bvX68PjvkOtx57jlIOWh5O/liubk5YPnZely6m7ql+wN8L7zUPZB+Mj8AQPaBs8G2waQCFwMqQ1KDj8ORA47EP4RRBDqDG0MVgtKCLEDzgJ0BMQFeAUBBpMJtwpCDLALsgxRDnYQvxK+GBce3x7nHosgcSQyKOgqEytzLHwu/i3nLWQu9yo3JiQk3yCqGMMQMAsgBWYAsP28+E3ziO9l7FXpKOlg6TjmjuOV5Irl8eTP5WzlvOKg4TXju+Fw4NDh8uJu4/PjnOIF4azie+Sa5RTpzu0J8Onv7/Aw85D2i/iQ91f3WvpR/Kz7VPuR/EAAmwAL/lj+iv3A+hD37vaD+Ef4n/U99KL2/vjq+L728/Xf95P5aPzz/agBZAaICKQJTwppDXsQghLwEhkU+RWJFCwRbhFcFekTcgwtBrIGvAjgBMD9W/ot/Jn97fwV+975NPkv9wb4RvxrAvEFUwitC9oSKBvSHXEbfRwmJDEsaC6fLHosMjCsMUYuiys4K2kosCK3HTwdoR82HkIVLAqvBO8Dmf+6+A/04vBR7ELoQObu447ecdny1i7Wj9U007LR/s9fz8bPn8+AztjOXdEV1BjX/dpg36rhQ+XS6mPyxfec+bL7XQDABdsILQt4CmAILge4CMkIkwZxAv/+mf4f/8L9PvqB+bn5kvl6+OT4Rvn/+OD2VPf7+v3/vQHtAEkBYgQVBiwGywjiCxQMuAjtCe8L3QrcB9gFIASPAz0Dgv+G/KT9Tf9Y++v1wPKn9dH+/geuCyULuAsUDxkVPxxuIrAnCi4hNHo2/je1OPk4Izi5ODU5RzjKNIUv2ypfJ3IkUx8sGGsRhwpiBcEASfrn8QLtaOuX6QHjstw92r3Yw9X+0U/QXc+vzX7MBsz/yRXLJdD006nSr85LzRvQxNNQ1vzWMtoe3vrgseS+6fjtzPE/9v/6rgGWCNEMHw3tDXsRuRQUFW0T6BGPEjASNhF1D48NPgzoClMIfAYEBXQCyf9Q/rT/qwDZ/4n9s/t4+479gf5C/Gr68/tXAAoCQP9f+zH9JgJnAzj/dPwC/v//MQGkAMABQgPvAAn7BvsgBS4QnBBsB9gGNxFoHrwhxSBAJFMsQzGVMkc4UEBYQ6xADT8bQfJCwkBDOc4xsyvwJkkiyRp8EYgIjgG4+9z1f+7O5ejdANjz1ALSqM8vyxfG5sMDxlDI38aEw2bDM8l6zkjQY88L0kPY395y4rzg/t+Y42brTfH38o7y3vGD80H40P1y/w3+k/34AYcJLw/NDZsJRwq3D4QT8hKAEeEOCQ3bDE8PeA8iDJUHMwXgBZwFKAZrBsgDn/04+U0A8Ao5CIr8ePlJ/sz+7PsZ/nsDTAJB+hT0gPWi/BQBXvy89VHzHvfh/vECxwEB/j//kAQOCgoLdwwgEsgXORlyGhohzSjtKkgrSC0yMss1fzaYNao0eDKSLT0olyRZIswefBhHEaMJ9QIh+s3zx/Ar7gbnsN1p2SvZDtrM1vHTf9KD08zR7dBr07jWOttq3DvfYeJg5xzre+5g8iH1TfdR+WP9jP5oAFUEDQjyCRwKTAiJBqcGIwfgBnMCUP/M/s//Qf7495347v5R/wX1ve269L0Eqgdo/cP7hAUIEGEJbQWGCcAPAwhrB3gOyRoKF4cFBfcu+okFbAmcAevum+5u+E3+2/E38Dzxkf2K/vH+l/ht+Dfylut5+PMPUw+/+Ivn5Ow1+tACXhQIBAb7zO3E/3sIzg74FD4ZUCFeJkUkLh5WK4cuFCzvMMI1EyhXFmwOKRIQC4D91AKWAJ78zPJs9GX7eeoY0TrPt/aCByL6K+oU5k7gzeux94j8MPLj5mTrTPRC9Kb1AAK3DEMO8+3v5E3xawBQ9DDqXu2Q+xP6DvMR+JXyB/A/8tD1yvFo+e0LURISAvL4pgREHssn6Bz8DwYNPwwWBrkHFAYCCbgL1Qy5CsoFn/zu71ruJPqIAL75HfS0+PP7qfM877X12vrD8zPvr+/v8Wj0VveW9iH2kvm2+zT6dvUe87v1D/kw+Nj2YfqZAGAAqwEuB/oOkBA1DAUGCQfZDfMRnxHfEtYUoRI1ECIPWg/JDlUPjRDPD8gMMAk9BuMGwAZlAmD+rv1x/6n/igCEAIL+e/0g/y0CkgPKA5kFawjACgcLPwwfD9wQwRFgEqMSrhIIEj0TlRKoEFUO0wyuChMJ3AblApD9jfgi9njxpuzk6PvmluT434/bYNoL3ErdGtsU2M7aEN/n41jn0Ojf68PvevXa+0MBdwNCArAEQQkvDqkPGBHHEk0T9xDXC+4HgwYICPYKVwvlBuD/APqQ+iL+/f7u+TbzDe8s7k3yzfPN86bvUetk65nv9/O89Af2XvbJ9rD11vUl+oL/AANQA8IFOgkJDH4NlREFFy8athoBHbohECUsJx8qfS2xL6kvAy50Ku4llyNfIWUc9hbRE00SFg6OBYP8F/mo+A745vQx7ljnX+Vx55HsUPDh7s3qwugd60bwxPOk9Lb0ePXv9wr6s/k++T76LP1c/5D+svz1+ln4Gfik+Uv6SPkB9VTyAPO39Pf0S/Je74LtzuxA7kLxEPTQ81TxK/FH9P34SPvV/Jb9dQDrArUGCAnwCCEIqgh2C+sMkw2tDFwL4QfUBI8GxwjSB88B5Pln9gD2OPbo8Rjts+sw7gTv5ekp5DTjSugw7C3t4+z/7dfx3fZZ+xz+Xf+gBLoJfQ1xErsaPyNHJtYmYCkWLkwxmDPwNjY3XjRDL8ksMy3yK7QmTh4XGKkTxg0VCCIErAGM+xryHOzg64HthetU5bTegd1U3/fgHuLT4oXjVeN25Mrm0uhF6v/so/Bc9hL7gvzU/Kr9TgCnA4MFbwbnBdsE6wKDAMr/bgC3AX//XfsO+Ov2MfVF80vygvLW9HL18/Jl7+nuhPFC9RX3c/hk+LT2Kvb3+H39j/+L/5j/Av/X/xgC1AMjA5oCcgLsA10EFgSXApkAV//U/qP+bv0D/Wj8+vyo+jv50fiS+d75ivxoA28JNgk1ASz+gwLWDR4XDhsRG9Ia8RssHzIk+SfYKSArVC3qL3AvPzAKMS0wTS3vKr4pOiZ2H/wXcRMiD/4KnwXAALv6VvT/7QTokeFt3jTdy9wH20LXYdUi1b7W/9Z82ZTeE+Q25tXmYefp6mXwuvWc+Pr3s/eQ+X/8wf5q/3H/ef4o/P35n/nA+Tj5ZvgG9gDz3u7A7TfvlO9X7gfta+1N7lXttOsY7fLu/fFJ9H328vbA9E70nfhE/9ECrgIfAdEBDgK+A+oGYgp5De4MUAkMCGMKgw6/D9kN5ws8DSYOcg4hDfcK9QnkCMIJawr2CiIIWgUaAwIHHwzcDgoNRQk6B6AIIA/eFDgWzBLIDRcKYw3qFJkbFx1rGFEUWhOcFVMbASDPId8d4BjeFtsYzB26IU4iex0yGIUTIBO0FEAWLRSfDaUFU/9A/C/8pfoX9l3vDeiS4nTfd93y2t/WptLuzyzNHMyly6LLjMzjzdLPXtE60ZTSdNZR3Fvii+Wy5/vo8+lx7ZD01fyVAdsBQQDNAFwEIgq/D0QSuRKDEAIQohFXFW0YvxgkF84UQxOKEtoSRBIAEZwP1g16DOEK4wgoB3QFYwUBBSMEPwMJAar9rfpV+T76PvtE+o74gPYE9EbxaPBx83n22PQ98SPvBvLC9gz5e/kF+G72P/j5/RUGBAylCqIGDQckDqUYESAzIqMeeBrcGt4gSiimLGMs6ygXJYMhTyH3Iv0ilSD6G5sXZROcDjwKfQbaAcP8bPdl8rbuwumY5LHfNdt92OnVttRj1K/Tp9K90XrRU9N21TnYtNsx3rngRONO5t3pTO3I8LP0nvfy+Uz74/s2/hcBUQSHBroGUAY0BucGyQifC08Nuw19C2AJXwi/CXYMrA0SDWwK/wdoB50JZQtGCzQJfQcfBmQEIQRnBH8EFAQmArUA5wDIAEIB1AGTAO394Pu5/KP/XAG5AET/ef39/Hr+igJFBuMGLgReAY8BPwVeCkcO7A6tDKcKEAuVDjoTFhc5GF4XCBU8FB4VvBY4GIUYExnKGNsWzRPtEAAPjA4GDvQMpgrmBrICvP7h+/z6Lvp7+AH1VvAj7fjqeunK523lY+OF4kbiNeLz4ZXg89/T30HhfONA5Sbn6edq6PDoLOq27NnvbvE28s3ytfMy9nT4SPof+w37cftW/A399v22/eX8D/wp/KX9uv4D/w3+jfx/+xr85P1nAN0BBwHO/wj/AAD/AVEDbQTHBOMEKAU9BZoFbQaSB1wJHwsLC7QKqwl7CRsLUg0DEP0Q7Q9QDlUN/A0rD3QQkBHdEb0QVw8qDv0ObhGkE9sU0RT1EogRgxGTEwoWjBc7GC8X+RTZE4sU+RVRFjYU0REYEHAOOQ25C9UJsAcEBHYBD/+j/CX6lPb780ryaPAl7hnsX+lO557lUeVT5jjm1uS74t/gMuEf437lZOcc59rmNOeD6Bfrl+3D72/xufEg8j/zwvSm9tX3Nvl3+o76WPqZ+vX6cfwN/vX+z/6u/J77EPz0/fr/hAAFACv/F/4Q/nv/TABFAcwA5ACiAR8CxALXAtkCewMtBPgE7QXCBagFegaQBr4GcgaJBoMHIgdbBhYGYQb0BUsF5wRDBpcGMgZtBZcEnAVpB+kJJguDCl0JdgolDZ0QUxJQEiQS8BEgFH8XkBpaG7gYIBbtFTwYQBozGnsXmBPvDwoNMgwDC7EIqgTV/y38ufga9jTz0e+n7PvpYucz5YLjEeM54znifOFR4V7iM+SF5v7ou+vy7FLugPBL8zn3Gfq4/Ef+/f6xAO0CNgXoBp0HVgdPB98GKQenB2QHAAe9BRQFqgRnA1MC5wEDAYYAMf9H/sH9KPwy++r6yfoo+uH4vffw9/j3L/gg+E73b/dj9y74Dvnx+Cj55vn++pr8Vf37/ar+8P7G/8sAHAItA9QDUATSBO4EcQVtBkwHRAjzB8UHfAceB/oG6gbzBsMG2AV6BBIDyQHeAcsC0wJwAdL+kv3B/dT9dv6W/rH9D/wI+vT5I/y5/UL+1/w++1z7c/x7/i4AVABvAK0AWAETA/ME7AYYCPIHwAi+Ci0Mew0TDaAMmgysDPoMyAy8CzcKRwjWBj8GBwVEBMgC2QC0/2j+Hv4S/kf9J/wk+3j6xfq5+jv7z/v9+vX6Rft//JT9/P3W/Sr+Wv7b/l7/D//f/pD+7P5W/8L+H/5a/V38Yvw1/D78EPz4+gj6P/kk+eb5IfrI+cT4N/ff9mz4p/l8+vn5N/kR+X/4mfnr+sj79Ptb+0H7Nfzd/AT+RP8z/8L+c/6s/v3/YAFqAn0CSQH6ACYBEQLwAvcCUwLKARICpgK6AsECKwOKAocCawP4A0sE1APFA4MEGAWlBfcFAwYbBsUFhwWuBZkFzAUaBvQFrwUUBZkEgAQkBBkESwQ8BFcEqANCAyoDqwKCAtYCJgOcA7wDmANpA24C+QG8At4DfQQ1BMgDkgMrA7sDeAQzBT4FrQQJBKgDkQOZA9cDogMSA8wBIQElAekAxwDxAAEAM/8f/mD9af0H/WL8mfuy+tr5QPls+EP4tPcV91L2cPUJ9X30E/Rs9Gf0UfR29Br0XvRj9NX0fPWP9dr1M/bC9o/39veZ+Gv5efna+dz67/va/Nb8Pv31/Wv+EP+J/wkAeQBPAKsAoQExAlcCYwJJAq0CzgLoAogDngOGA08DYQPmAx4EQATkBBkFHQV0BaoF7gUDBpsGFgfNBsMGzgYWB+4HAwjfB70H+wbzBvwGMgfbBsEFzwRdBG0EegRvBKUD4QIXAskBJQLQAZ0BIgF+AHUACwBjAMIArABzAKkAxgADAR0BXwEXAi8CLAJaAu4B3AHjAaoBxgFpAfsAeACT/zr/6P58/in+Qv20/Cj89vpX+v35HfrH+c74s/hn+Dj4s/jB+Mb48vh8+HP4Qfmp+WT6wPpU+/H73ftn/Cn9vP2G/qX+Kf8VADgAagDOAAoBIgEvAVkBxAFgAdcAyABlAMwAmgBPAFMAkf8q/1n///4a/73+cP6n/of+l/6F/nb+lP52/rv+Y/9g/27/X/9G/8T/JgCLANQA0ADUADYBqwFQArgCxQL2AhMDhAMcBCcEgwROBGUErwTVBP0E7ASxBIQETQRbBGUELgQBBLADLQMGA9QC9wJSA9sCbgJIAhQCMwL4AewBIQKuAY8BbwFRAVMB4QCkAFwAwP+M/1r/zP6f/hL+lf1M/ez86Pwl/e781vxf/Ar8OPwm/Fr8a/xJ/GH8R/yQ/Ar9N/0g/VT9T/2l/er9Ef4j/v798/39/Sn+mP67/kb+JP4G/jH+i/7B/vr+mf5M/mb+av67/j3/Av/h/lb+PP6w/sj+Fv9E/xb/WP9f/33/2v/8/28A/wBPAZEBXwFsAagB+AGvAjADEQPsAoMCogJBAzsDQQMVA7gClgJOAlYCwgKYAkYC8QG6AcgBvQHCAeMBmAGMAbsBhQH3AfgBJwJrAmQCPAIeAhwCFwLlAc8B5wFVAQABBgHsALYAPwDz/7v/S/8c/wf/kv6L/jn+9f3F/Wn9M/1F/TP9Tf05/UH9hP2M/cD96/3Q/QT+/v0s/pz+jf6//vj+Fv9d/4v/xf///8P/2f8vAPD/HQD9/wwASgAgAEMAbAAtADcAEwAYACUA6P/U/9T/T/9P//X+5f4Q//X+5/60/o7+iP6Y/qP++v7E/sn+vv6M/hH/EP9K/1j/Hv8f/03/Uf+V/5H/uf8OAAoAHABKAGwAywDNAAoBZQEvAVABrQEKAnYCUgIeAhcC0wEBAocCiwKQAigCtAECAtoBDAIxAtoBvAFFAScBWQE6ARMBEAG6ANwAgQBCAEoA3f+9/9H/hP+q/5X/Z/+l/4b/m//N/8D/EQDO/8b/HQD3/wIADwAWAFkAYgAyADQAJgAqABwACQBlAAAA8//d/3P/Uv9f/+r+wP5m/kb+SP7+/e791f2y/b/9iv14/d790v3H/ZP9lv3n/fb9Kv56/nb+j/68/qP+S/9P/3f/1P/T//j/LwBWAKYAdgBZAGEASwB1AJAAgACfAFkAOQCTAIMAmQCrAHsAqgC+APMANAHrALUAswDCACYBBQH2ACoB0gCVALgAyQAhAdkAowDjAL8AsADHAMMA3QB9AHgAiQCJAHAAYAA4ACcAFgCy/8n/yP/C/6j/pf/S/67/xf/X/5n/0v/3/7v/9P+2/6P/7//4/xQASAApABEAIAAVAD8AWABOAEoA/f8YAOT/7v/7/7r/xv/T/5T/pf+M/8P/AADs/+H/DgAAAEIANQAVAFYAOAD3/9L/6P8FAOP/hP+U/yT/Qv9L/zv/s/+Q/3L/r/+o/8T////H/xAApP+//w0AOAAjACEAFQBFAF8AfgDIAIQAjwB1AEcAjABZAH4AlQBPAAIA1//B/+j//v/6//L/5//h/xIAJwB8AEEAVQB4AGQAiwCFAI4AlQCsAIAAjQB+AJAAmQCKAJUARgAnAFEAHQBGAJYAagDMAGAAGAARABsAWABdAIEAlQBDABYAAQCx/8b/FwC3/6//iP97/8j/L/8y/7H/x/9KAPX/hv/b/67/yf8qAPD/ZQDJ/8r/qv9F/yr/Iv84/yr/if86/1T/Rf9Q/+H/jv/M/6D/o//J/3z/rf8TAC0AGADG//v/KwADAO7/1v+u/6P/TP+G/93/BwCg/4b/R/8L/1n/L/+V/y7/D//Q/pT+zv5p/8j/ov9o/xP/Z/+E/wAAv//u/73/qP9Q/y3/Tv9N/1f/YP9h/zb/dP/q/xMAwgB1AHwA3ACWACAB9gADAaMAngDiAPcAtwDSABsBzADjAPMAIwHvALEAkgD0ANIAuwBsAFwATgCcAAQASQCo/5H/p/+R/5L/Tf8h/8P+Nv/1/uz+cf6L/r7+pP6t/vb+Qf9H/5L/rP+w/5n/LAABAA4AgwDPANQAAgEZAUABMwG2AZAB2AEGAo0B2gEJArABqAFnAYUBZwEAAe8AwwCnAHkAZAA0AFoA7/9W/5X/GP+m/1j/A//6/qL+GP8s/zP/Wf9d/2f/RP9a/17/z/+3/wAA4v/B/xsA6f/p/08AWwDGAIEAYwBLAKD/lf/x/73/sP92/0v/T//y/g//Y/86/0n/DP8p/2z/fv9B/0P/gf9d/1T/bv8w/8z/eP9v/1D/x/9CALH/EgDJ//L/0f+N/8z/Z/+F/6n/WP99/9b+2f69/2f/gv9S/zL/Iv95/4r/3P/B/wQARAAWAF0A6gC5ANkAeQDKAKsA7gBOAXkBkAFCAVkBsgD3AOYA2ABpAUUBogBMAH0AmgC0AGwAvwBrAEYAEwCAAEEA9//n/5X/EAB1AIsA/P8RANn/+f8CAJj/8P+d/4j/Zv8O/z3+d/6b/nv/uP98/xIASv/X/7z/uP+KAJMA3QBLAEcBygC/ANgAIwBfACYAhgA9ACQAAABn/50A+//H/wIAGAAWAM7/pv8s/0P/CP+//5f/P/88//f+Yv/B/8z/IwBt/0v/kf+N//D/hf/4/83/JgAGAEMAGQDr/7L/+/+I/9D/9v9MAFMAgP8g/1n/Mf8f/6L/7v4I/83+Q/8nAGgAFv/9/g3/G//i/oH/TgCk//n/f/+TAIL/uv8SAeEBzQHrAS8BWgHGAfoADALOAYgBHwHhAJUASgAlAB8AmACuACMBYQCUAHQARQBm/7f/hACpAIcAMQAX/5//z//A/9n/W/+5/24AlwD5/0gAk/8jAJf/Af/G/wX/dv9mAAP/X/+l/hD+qf6k/sb+Ef4J/7/+jP4a/yf/iv7k/u3+lf/A/6v/HP8ZABwAugABAZb//f8oAOT/PgD3/lP+s//l/xwAVQDU/0L/3f4N/zz+rP73/rD+Zv+q/2n/pv8gAJT/CQC9AOsA2gDOABsCMwGAAXkBCAGyAK8AuwApACQBdgGCAc8BdgGUAbsA8v+YAGoALQAsAOz/s/+s/2n/Rv8c/+v+SP/z/nMA3/9h/00AwgDLAOkAgABDABwAbQAuAIUAJgBtABsAqv+r/1D/XwBmAIj/3/+z/2sAewD1/0IAbgBNANv/pgAnAJb/+v6S/3L/Kv+X/w4AMgCJ/xn/CP6T/tb+S/8e/6n/DwAIAKkA9P/R/2cAkv80AFYA6gD6ANEAKAAUAKf//v9QAOf/PwCSAKgAaABCAJz/S//z/kv/Ev8k/z7/Lf92/1L/aP8N/x//VP9r/5P/JgCk/zIAYf9w/1b/hP88/6D/z/9T/xUAeP+n/5D/QP95/7H/lP/U/+L/HgALAMH/wP+S/9v/tv/j/4v/8P8HAEYA+QBDAaQAagC9AHwBZAFhAeAAOAHSAB8BMwHmAA0BtAD8APMAFQFHAQkBCwE8AF0ASgDX/2EAdwBXANn/FwDp/5P/2//J/wkAsP9Q/8r/Z//7/qH/8v6w/9D/nf97/8//Tv9o/4H/vf+E/+7+///d/3z/nP9c/6z/AACOAFgA+wDNABgBpQBJAMkAUgA8AF4AKwBjABwA7P/i/8L/k//f/+v/9f8FALv/CgC+/4f/NQDY//r/SQDX/1QAtP9o/4j/Tv/B/xH/Xv8c/0f/Sf9s/3r/EwAwAE4Ak/8T/4v/yP9DAKcAiAC7/7T/mP/B/7j/S/+1/7X/k/+x/7v/vv/f/3r/wf+C/y0A+v+s/4T/YAD7/7H/wv/o/wwACgA4AC4APQCxAJgApQB+AbMAdwDYAJEAvAD3AMcAzABYADMAVQD0/4AA1ACuAHcA5/8uAE8AJP/B/4QAw//K/zsAAgAsAIX/HwD4//b/Of9q/+T/3v9p/93/vP8Z/9r+7v5v/wf/Tf9s/3P/8f/u/2j/Q/9P/2D/Kf80/1j/uv7l/kT/9P5M/3T/+f6x/zz/CABp/5j/eADd/7f/AwCOAO3/EwCaAI0AAgGmAKEAugAeACABZQDWAPIA//9PAUwAagAnAN0AZQAIACcAbf92AGgABAAWAPr+Lv8p/x//jv+O/5r//P+G/6r/KABPANj/vf/P/5oAhAAjAY4AEQHnAPD/x/9SADMAHf8/AEMAIQAOAIr/hP+O/0r/9f+I/xMAbv8j/6z/iv9wAA4A0f9BAL8AewB+AHX/YACWABsBrP9dAHcAMwAcALD/MwCc/xsANwDo/8cABQBPADQABQAmARcAyAAcAOv+4P+Y/9j/WQDa/yz/Cv+L/83/qv/y/yYAQAAlAK3/Lv9l/yf/PwD1/ysAxP+p/pP/dv9d/3H/tv9//+r+dP98/9b/PP/f/v7+FwDW/mv/FACeALQAmQCQADAAPQDq/+YAUQAMAK4AOgChADwAAgB2/xoAWQAYAPH/of99APj/xP8QALYAMwASAFUAaQCn//b/DgBwAKwAq//IAHYATQATAMz/swAOAQAA7QD6AIIAmgA9AdkAwADK/44A/P8qAAAAbgBuAFoAngBoAFQAq//V/4MAKABm/6z/CABX/0f9uv4c/qD+Mv8x/hn/Wv5W/9f+z/3H/1r/mv6Q/9P/nACZ/7z/zv/BAKwAnf8kAKQAzv/5/68ANQB7/y0A5f/H/6//M/+b/3L/Lf94/tL/sf/V/mz/Gv/n/4v/SQBeAOv/pv/5/y4ARwA1AIr/1P+nALwAqAAnAEEAJQDh/yEA//+JAJAARACxAHUARABgAKj/I/+O/ycAev/i/4D/3f6d//T/vP+Y/wkBHADU/7n//f+k/9X/r/8wACgAagCEACAAt//7/6gAswB5AEsArgCBAEkBpQCMAIQAIgA0ACUAcAAZAG8ALAAnABgALAD3/8YAUABjAPL/vQADADIAeABuAGUAm//j/8v/qf9l/9r/VQAFAPT/LwBLAPn/N/8yANn/TP97/+v/CAD6/kz/PgAkAFT/m//w/xcAh/9hANX/tgBhADAACACr//j/f/8pAH7/mv8b/2X/qP9O/yf/gf/p//b/u/+z//f/GAAAANP/NQAZANoAXAC7AOv/NgAVAD0BqQAEAZkAQgAXAOL/UwDv/xUARACq/+X/jP9j/4r/RP/d/9r/MQDX/3v/2/68/1D/pv/O/6H/PP9d/1X+OP/o/2D/+/+l/5wAeP8+AGX/ZgCL/wQABAA3AOv/BgDz/4gATwBpAB4Ai/9cAJj/b/9C/zUACwCt/wsAfv8LAAgAFwADALX/SwDRADQAOgDN//n/BwCS/5T/3P9wAJj/FABcAD8AHgCa/w4A9P+q/3T/4P/H/0T/GQAbAAgAegAEAG8ARwBZANH/LwA2ACgBWwAVAAUARADB/1X/9P8kADwAuv8ZAEQAGwAxADf/3//X/8D/p/8SAKQAYQB8AN3/4f/Q/8gARQD4/4kAEwDn/7b/wP+G//T/BQD3/+X/w//C/9j/Rv8dAOD/1P8qAO//0v/j//v/bwD0/5j/zP8RAAAABQAJAEEA/f+iAI4AiQBDAM3/agAaABQAOAApABgA4P8PABMA9/8HAEUAsv8/AOr/fP/M/8P/OACUANf/2v+L/wEAfP+e/1wAEADf/zEABACz/+r/3v/1//H/fADk/+n/6f+H//3/MwBKAIb/l//b/5f/Df82AJD///8NAAYAZwBJAJIAowB0ADkAbQBjACMAUgBOAEEAYQAqAB8A6v98/6f/vP9YACAA+f/a/4T/n//D/9r/2P8uAIYA6f/k/2X/k/+j/6P/yv/m/7L/mf99/5n/7f+G/5n/1P/K/67/hv/C/77/xv/l/yMAvf+u//P/8P/U/+D/of8lAOb/QACo/+P/8v+w/wUAIQBAALQAHAALAGgAHABCAP3/iADHAKIAlQCgAK0AMQB3APL/FwD9/1cABQAZABkA9v/V/53/5f94/4v/wP+2/5L/fP8L/zb/W/8R/3D/cv+z//T/IQD2/z0A5/8AAEgAWgBLABcABgBmABgAGQDX//v/qP9a/4f/b//D/0MArP+s/5//U//Z/6T/i//k//b/KgDI//f/z//H/8j/8P/p/9v/KwAIAHr/V//I/9b/wf/h/8n/z//h/9X/bf8lAPr/HADe/xoAFgAiAA0AjwBQAJAAcwAzAEgAQQBBACQAdgC6AA==\" type=\"audio/wav\" />\n",
       "                    Your browser does not support the audio element.\n",
       "                </audio>\n",
       "              "
      ],
      "text/plain": [
       "<IPython.lib.display.Audio object>"
      ]
     },
     "execution_count": 34,
     "metadata": {},
     "output_type": "execute_result"
    }
   ],
   "source": [
    "if isinstance(audio, torch.Tensor):\n",
    "    audio = audio.to('cpu').numpy()\n",
    "ipd.Audio(audio, rate=SAMPLE_RATE)"
   ]
  },
  {
   "cell_type": "code",
   "execution_count": null,
   "metadata": {},
   "outputs": [],
   "source": []
  },
  {
   "cell_type": "code",
   "execution_count": null,
   "metadata": {},
   "outputs": [],
   "source": []
  }
 ],
 "metadata": {
  "kernelspec": {
   "display_name": "Python 3",
   "language": "python",
   "name": "python3"
  },
  "language_info": {
   "codemirror_mode": {
    "name": "ipython",
    "version": 3
   },
   "file_extension": ".py",
   "mimetype": "text/x-python",
   "name": "python",
   "nbconvert_exporter": "python",
   "pygments_lexer": "ipython3",
   "version": "3.8.3"
  }
 },
 "nbformat": 4,
 "nbformat_minor": 4
}
